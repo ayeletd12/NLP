{
 "cells": [
  {
   "cell_type": "code",
   "execution_count": 1,
   "metadata": {},
   "outputs": [],
   "source": [
    "from nltk.corpus import gutenberg"
   ]
  },
  {
   "cell_type": "markdown",
   "metadata": {},
   "source": [
    "### Extract words ###"
   ]
  },
  {
   "cell_type": "code",
   "execution_count": 2,
   "metadata": {},
   "outputs": [
    {
     "data": {
      "text/plain": [
       "['austen-emma.txt',\n",
       " 'austen-persuasion.txt',\n",
       " 'austen-sense.txt',\n",
       " 'bible-kjv.txt',\n",
       " 'blake-poems.txt',\n",
       " 'bryant-stories.txt',\n",
       " 'burgess-busterbrown.txt',\n",
       " 'carroll-alice.txt',\n",
       " 'chesterton-ball.txt',\n",
       " 'chesterton-brown.txt',\n",
       " 'chesterton-thursday.txt',\n",
       " 'edgeworth-parents.txt',\n",
       " 'melville-moby_dick.txt',\n",
       " 'milton-paradise.txt',\n",
       " 'shakespeare-caesar.txt',\n",
       " 'shakespeare-hamlet.txt',\n",
       " 'shakespeare-macbeth.txt',\n",
       " 'whitman-leaves.txt']"
      ]
     },
     "execution_count": 2,
     "metadata": {},
     "output_type": "execute_result"
    }
   ],
   "source": [
    "gutenberg.fileids()\n",
    "#returns list of file names"
   ]
  },
  {
   "cell_type": "code",
   "execution_count": 3,
   "metadata": {},
   "outputs": [],
   "source": [
    "r_bible = gutenberg.raw('bible-kjv.txt')\n",
    "#returns the text as one long string"
   ]
  },
  {
   "cell_type": "code",
   "execution_count": 4,
   "metadata": {},
   "outputs": [
    {
     "data": {
      "text/plain": [
       "'[The King James Bible]\\n\\nThe Old Testament of the King James Bible\\n\\nThe First Book of Moses:  Called '"
      ]
     },
     "execution_count": 4,
     "metadata": {},
     "output_type": "execute_result"
    }
   ],
   "source": [
    "r_bible[:100]"
   ]
  },
  {
   "cell_type": "code",
   "execution_count": 5,
   "metadata": {},
   "outputs": [],
   "source": [
    "l_w_bible = gutenberg.words('bible-kjv.txt')\n",
    "#returns list of all words"
   ]
  },
  {
   "cell_type": "code",
   "execution_count": 6,
   "metadata": {},
   "outputs": [
    {
     "data": {
      "text/plain": [
       "['[', 'The', 'King', 'James', 'Bible', ']', 'The', 'Old', 'Testament', 'of']"
      ]
     },
     "execution_count": 6,
     "metadata": {},
     "output_type": "execute_result"
    }
   ],
   "source": [
    "l_w_bible[:10]"
   ]
  },
  {
   "cell_type": "code",
   "execution_count": 7,
   "metadata": {},
   "outputs": [],
   "source": [
    "l_s_bible = gutenberg.sents('bible-kjv.txt')\n",
    "#returns list of all senteces"
   ]
  },
  {
   "cell_type": "code",
   "execution_count": 134,
   "metadata": {},
   "outputs": [
    {
     "data": {
      "text/plain": [
       "['1',\n",
       " ':',\n",
       " '1',\n",
       " 'In',\n",
       " 'the',\n",
       " 'beginning',\n",
       " 'God',\n",
       " 'created',\n",
       " 'the',\n",
       " 'heaven',\n",
       " 'and',\n",
       " 'the',\n",
       " 'earth',\n",
       " '.']"
      ]
     },
     "execution_count": 134,
     "metadata": {},
     "output_type": "execute_result"
    }
   ],
   "source": [
    "l_s_bible[3]\n",
    "#returns first sentene which is at index 3"
   ]
  },
  {
   "cell_type": "code",
   "execution_count": 9,
   "metadata": {},
   "outputs": [],
   "source": [
    "from nltk.corpus import brown"
   ]
  },
  {
   "cell_type": "code",
   "execution_count": 11,
   "metadata": {},
   "outputs": [
    {
     "data": {
      "text/plain": [
       "['adventure',\n",
       " 'belles_lettres',\n",
       " 'editorial',\n",
       " 'fiction',\n",
       " 'government',\n",
       " 'hobbies',\n",
       " 'humor',\n",
       " 'learned',\n",
       " 'lore',\n",
       " 'mystery',\n",
       " 'news',\n",
       " 'religion',\n",
       " 'reviews',\n",
       " 'romance',\n",
       " 'science_fiction']"
      ]
     },
     "execution_count": 11,
     "metadata": {},
     "output_type": "execute_result"
    }
   ],
   "source": [
    "brown.categories()"
   ]
  },
  {
   "cell_type": "code",
   "execution_count": 12,
   "metadata": {},
   "outputs": [
    {
     "data": {
      "text/plain": [
       "['cr01', 'cr02', 'cr03', 'cr04', 'cr05', 'cr06', 'cr07', 'cr08', 'cr09']"
      ]
     },
     "execution_count": 12,
     "metadata": {},
     "output_type": "execute_result"
    }
   ],
   "source": [
    "brown.fileids(categories=['humor'])\n",
    "#filter by category"
   ]
  },
  {
   "cell_type": "markdown",
   "metadata": {},
   "source": [
    "### Frequency Distribution ###"
   ]
  },
  {
   "cell_type": "code",
   "execution_count": null,
   "metadata": {},
   "outputs": [],
   "source": [
    "### Frequency Distribution"
   ]
  },
  {
   "cell_type": "code",
   "execution_count": 16,
   "metadata": {},
   "outputs": [],
   "source": [
    "from nltk import ConditionalFreqDist, FreqDist"
   ]
  },
  {
   "cell_type": "code",
   "execution_count": 17,
   "metadata": {},
   "outputs": [],
   "source": [
    "s = 'I saw Suise sittins in a shoe shine shop. Where she sits she shines and where she shines she sits.'"
   ]
  },
  {
   "cell_type": "code",
   "execution_count": 18,
   "metadata": {},
   "outputs": [],
   "source": [
    "l = s.split()"
   ]
  },
  {
   "cell_type": "code",
   "execution_count": 19,
   "metadata": {},
   "outputs": [
    {
     "data": {
      "text/plain": [
       "['I',\n",
       " 'saw',\n",
       " 'Suise',\n",
       " 'sittins',\n",
       " 'in',\n",
       " 'a',\n",
       " 'shoe',\n",
       " 'shine',\n",
       " 'shop.',\n",
       " 'Where',\n",
       " 'she',\n",
       " 'sits',\n",
       " 'she',\n",
       " 'shines',\n",
       " 'and',\n",
       " 'where',\n",
       " 'she',\n",
       " 'shines',\n",
       " 'she',\n",
       " 'sits.']"
      ]
     },
     "execution_count": 19,
     "metadata": {},
     "output_type": "execute_result"
    }
   ],
   "source": [
    "l"
   ]
  },
  {
   "cell_type": "code",
   "execution_count": 20,
   "metadata": {},
   "outputs": [],
   "source": [
    "fd = FreqDist(l)\n",
    "#returns a dictionary structure with the instances number of each word"
   ]
  },
  {
   "cell_type": "code",
   "execution_count": 21,
   "metadata": {},
   "outputs": [
    {
     "data": {
      "text/plain": [
       "FreqDist({'she': 4, 'shines': 2, 'I': 1, 'saw': 1, 'Suise': 1, 'sittins': 1, 'in': 1, 'a': 1, 'shoe': 1, 'shine': 1, ...})"
      ]
     },
     "execution_count": 21,
     "metadata": {},
     "output_type": "execute_result"
    }
   ],
   "source": [
    "fd"
   ]
  },
  {
   "cell_type": "code",
   "execution_count": 22,
   "metadata": {},
   "outputs": [
    {
     "data": {
      "text/plain": [
       "[('she', 4), ('shines', 2)]"
      ]
     },
     "execution_count": 22,
     "metadata": {},
     "output_type": "execute_result"
    }
   ],
   "source": [
    "fd.most_common(2)\n",
    "#returns the N most common words"
   ]
  },
  {
   "cell_type": "code",
   "execution_count": 23,
   "metadata": {},
   "outputs": [],
   "source": [
    "l_w_humor = brown.words(categories='humor')"
   ]
  },
  {
   "cell_type": "code",
   "execution_count": 24,
   "metadata": {},
   "outputs": [
    {
     "data": {
      "text/plain": [
       "21695"
      ]
     },
     "execution_count": 24,
     "metadata": {},
     "output_type": "execute_result"
    }
   ],
   "source": [
    "len(l_w_humor)"
   ]
  },
  {
   "cell_type": "code",
   "execution_count": 27,
   "metadata": {},
   "outputs": [],
   "source": [
    "fd_w_humor =FreqDist(l_w_humor)"
   ]
  },
  {
   "cell_type": "code",
   "execution_count": 28,
   "metadata": {},
   "outputs": [
    {
     "data": {
      "text/plain": [
       "[(',', 1331),\n",
       " ('the', 930),\n",
       " ('.', 877),\n",
       " ('of', 515),\n",
       " ('and', 512),\n",
       " ('a', 505),\n",
       " ('to', 463),\n",
       " ('``', 343),\n",
       " (\"''\", 340),\n",
       " ('in', 334)]"
      ]
     },
     "execution_count": 28,
     "metadata": {},
     "output_type": "execute_result"
    }
   ],
   "source": [
    "fd_w_humor.most_common(10)"
   ]
  },
  {
   "cell_type": "code",
   "execution_count": 29,
   "metadata": {},
   "outputs": [
    {
     "data": {
      "text/plain": [
       "['Hinkle',\n",
       " 'fancying',\n",
       " 'marriages',\n",
       " 'listed',\n",
       " 'Mormon',\n",
       " 'Beard',\n",
       " 'instigation',\n",
       " 'fourth',\n",
       " 'victim',\n",
       " 'beard',\n",
       " 'secured',\n",
       " 'report',\n",
       " 'trail',\n",
       " 'Cal',\n",
       " 'gas',\n",
       " 'main',\n",
       " 'boulevards',\n",
       " 'attendants',\n",
       " 'Ye',\n",
       " 'Olde',\n",
       " 'Gasse',\n",
       " 'Filling',\n",
       " 'Station',\n",
       " 'Avocado',\n",
       " 'Avenue',\n",
       " 'paused',\n",
       " 'route',\n",
       " 'Diego',\n",
       " 'headed',\n",
       " 'direction',\n",
       " 'Juan',\n",
       " 'Capistrano',\n",
       " 'By-the-Sea',\n",
       " 'quaint',\n",
       " 'Spanish',\n",
       " 'Mission',\n",
       " 'Drive-in',\n",
       " 'eating',\n",
       " 'tamale',\n",
       " 'convertible',\n",
       " 'quest',\n",
       " 'stolen',\n",
       " 'rug',\n",
       " 'robe',\n",
       " 'pawnshop',\n",
       " 'Glendale',\n",
       " 'placed',\n",
       " 'informing',\n",
       " 'questioning',\n",
       " 'apprehended',\n",
       " 'larceny',\n",
       " 'suspect',\n",
       " 'murders',\n",
       " 'uncovered',\n",
       " 'meaningless',\n",
       " 'phrases',\n",
       " 'souls',\n",
       " 'detective',\n",
       " 'commenting',\n",
       " 'behavior',\n",
       " 'myriad',\n",
       " 'citizens',\n",
       " 'community',\n",
       " 'mentally',\n",
       " 'unhinged',\n",
       " 'harmless',\n",
       " 'awaiting',\n",
       " 'failed',\n",
       " 'endeavoring',\n",
       " 'wrists',\n",
       " 'fainted',\n",
       " 'sight',\n",
       " 'blood',\n",
       " 'authorities',\n",
       " 'significance',\n",
       " 'episode',\n",
       " 'offered',\n",
       " 'whisky',\n",
       " 'lifelong',\n",
       " 'teetotaler',\n",
       " 'vaulting',\n",
       " 'mayorship',\n",
       " 'escaped',\n",
       " 'possibly',\n",
       " 'thief',\n",
       " 'attempted',\n",
       " 'guilty',\n",
       " 'breaking',\n",
       " 'laws',\n",
       " 'opportunity',\n",
       " 'test',\n",
       " 'chat',\n",
       " 'stating',\n",
       " \"we've\",\n",
       " 'goods',\n",
       " \"It'll\",\n",
       " 'shifty',\n",
       " 'relentless',\n",
       " 'pursuit',\n",
       " 'confessing',\n",
       " 'dreamed',\n",
       " 'summoned',\n",
       " 'officials',\n",
       " 'chagrin',\n",
       " 'pooh-poohed',\n",
       " 'credulity',\n",
       " 'required',\n",
       " 'strength',\n",
       " 'bravado',\n",
       " 'daring',\n",
       " 'commit',\n",
       " 'Ridiculous',\n",
       " 'glint',\n",
       " 'lit',\n",
       " 'stiffened',\n",
       " 'rose',\n",
       " \"He'd\",\n",
       " 'queried',\n",
       " 'murdering',\n",
       " \"there's\",\n",
       " 'derision',\n",
       " 'organized',\n",
       " 'termed',\n",
       " 'Wild',\n",
       " 'Goose',\n",
       " 'Chase',\n",
       " 'incredible',\n",
       " 'committing',\n",
       " 'consisted',\n",
       " 'reporters',\n",
       " 'cameramen',\n",
       " 'matter-of-factness',\n",
       " 'attitude',\n",
       " 'directed',\n",
       " 'cortege',\n",
       " 'autos',\n",
       " 'Santa',\n",
       " 'Monica',\n",
       " 'Stopping',\n",
       " 'cars',\n",
       " 'fork',\n",
       " 'spot',\n",
       " 'shrub-covered',\n",
       " 'hills',\n",
       " 'indicated',\n",
       " 'Orders',\n",
       " 'dig',\n",
       " 'chortled',\n",
       " 'cracked',\n",
       " 'quibs',\n",
       " 'gibes',\n",
       " 'digging',\n",
       " 'edge',\n",
       " 'remarking',\n",
       " 'picnic',\n",
       " 'Said',\n",
       " 'Joking',\n",
       " 'gathered',\n",
       " 'thrusting',\n",
       " 'view',\n",
       " 'package',\n",
       " 'crudely',\n",
       " \"murderer's\",\n",
       " 'sport',\n",
       " 'shirts',\n",
       " 'fragment',\n",
       " \"victim's\",\n",
       " 'wild',\n",
       " 'elation',\n",
       " 'disclosures',\n",
       " 'reward',\n",
       " 'procedure',\n",
       " 'Justice',\n",
       " 'triumph',\n",
       " 'cahoots',\n",
       " 'drag',\n",
       " 'sensation',\n",
       " 'Every',\n",
       " 'scandal',\n",
       " 'copy',\n",
       " \"Marshall's\",\n",
       " 'pen',\n",
       " 'cynics',\n",
       " 'impatience',\n",
       " 'dramatic',\n",
       " 'devilish',\n",
       " 'cleverness',\n",
       " 'Multiple',\n",
       " 'Romances',\n",
       " 'Addict',\n",
       " 'Downfall',\n",
       " 'Film',\n",
       " 'Idol',\n",
       " 'willing',\n",
       " \"mayor's\",\n",
       " 'throne',\n",
       " 'studied',\n",
       " 'thwarted',\n",
       " 'sensed',\n",
       " 'overvaulting',\n",
       " 'desire',\n",
       " 'consciousness',\n",
       " 'entertained',\n",
       " 'aspirations',\n",
       " 'favors',\n",
       " 'luckier',\n",
       " 'chap',\n",
       " 'tracked',\n",
       " 'cocktail',\n",
       " 'downtown',\n",
       " 'urged',\n",
       " 'attend',\n",
       " 'gentlemen',\n",
       " 'majority',\n",
       " 'smoke',\n",
       " 'bottles',\n",
       " 'guests',\n",
       " 'Naturally',\n",
       " 'remain',\n",
       " 'leave',\n",
       " 'arrival',\n",
       " 'politeness',\n",
       " 'adjacent',\n",
       " 'refuge',\n",
       " 'vase',\n",
       " 'projecting',\n",
       " 'Fate',\n",
       " 'playful',\n",
       " 'impulse',\n",
       " 'overcame',\n",
       " 'unidentified',\n",
       " 'prank',\n",
       " 'insert',\n",
       " 'district',\n",
       " 'attorney',\n",
       " 'emerged',\n",
       " 'engagement',\n",
       " 'Culture',\n",
       " 'Forum',\n",
       " 'Spirit',\n",
       " 'Southland',\n",
       " 'president',\n",
       " 'forum',\n",
       " 'preside',\n",
       " 'brushed',\n",
       " 'arranged',\n",
       " 'painstakingly',\n",
       " 'selected',\n",
       " 'noting',\n",
       " 'footwear',\n",
       " 'dignity',\n",
       " 'mounted',\n",
       " 'rostrum',\n",
       " 'intellectuals',\n",
       " 'imagined',\n",
       " 'incident',\n",
       " 'aside',\n",
       " 'reflecting',\n",
       " 'wrecked',\n",
       " 'rested',\n",
       " 'culprit',\n",
       " 'vowed',\n",
       " 'actions',\n",
       " 'tragedies',\n",
       " 'commiserate',\n",
       " 'difficult',\n",
       " 'link',\n",
       " 'finds',\n",
       " 'association',\n",
       " 'invite',\n",
       " 'snobbishly',\n",
       " 'receive',\n",
       " 'Czarship',\n",
       " 'affected',\n",
       " 'values',\n",
       " 'reflected',\n",
       " 'glory',\n",
       " 'Angeles-Pasadena',\n",
       " 'scions',\n",
       " 'aristocratic',\n",
       " 'dominated',\n",
       " 'Budweisers',\n",
       " 'beer',\n",
       " 'derivation',\n",
       " 'Chalmers',\n",
       " 'underwear',\n",
       " 'Heinzes',\n",
       " 'forbears',\n",
       " 'founded',\n",
       " 'nationally',\n",
       " 'trade',\n",
       " 'pickles',\n",
       " 'hated',\n",
       " 'salons',\n",
       " 'aristocrats',\n",
       " 'seldom',\n",
       " 'remotely',\n",
       " 'connected',\n",
       " 'cinema',\n",
       " 'exclusive',\n",
       " 'midsts',\n",
       " 'King',\n",
       " 'Spain',\n",
       " 'Pickfair',\n",
       " 'Mary',\n",
       " 'Doug',\n",
       " 'beckoned',\n",
       " 'cross',\n",
       " 'barriers',\n",
       " 'separate',\n",
       " 'hoi-polloi',\n",
       " 'trump',\n",
       " 'matrimonial',\n",
       " 'opportunities',\n",
       " 'debs',\n",
       " 'educated',\n",
       " 'abroad',\n",
       " 'lenient',\n",
       " 'debutante',\n",
       " 'chi-chi',\n",
       " 'spend',\n",
       " 'cosy',\n",
       " 'chaperon',\n",
       " 'hotbed',\n",
       " 'gossip',\n",
       " 'precaution',\n",
       " 'whispered',\n",
       " 'alas',\n",
       " 'greeted',\n",
       " 'checked',\n",
       " 'apron',\n",
       " 'ladle',\n",
       " \"cook's\",\n",
       " 'preparing',\n",
       " 'proceedings',\n",
       " 'giblet',\n",
       " 'gravy',\n",
       " 'asparagus',\n",
       " 'peas',\n",
       " 'sprig',\n",
       " 'mint',\n",
       " 'creamed',\n",
       " 'onions',\n",
       " 'mashed',\n",
       " 'potatoes',\n",
       " 'prepared',\n",
       " 'cooked',\n",
       " 'Hamlet',\n",
       " 'faced',\n",
       " 'agony',\n",
       " \"Beige's\",\n",
       " 'tray',\n",
       " 'dish',\n",
       " 'ascending',\n",
       " 'scale',\n",
       " 'dressed',\n",
       " 'rang',\n",
       " 'instantly',\n",
       " \"Here's\",\n",
       " 'household',\n",
       " 'grandmother',\n",
       " 'field',\n",
       " 'magically',\n",
       " 'Miranda',\n",
       " 'twined',\n",
       " 'murmuring',\n",
       " 'endearments',\n",
       " 'climbed',\n",
       " 'clutched',\n",
       " 'claiming',\n",
       " 'immediate',\n",
       " 'grounds',\n",
       " 'Somehow',\n",
       " 'managing',\n",
       " 'cool',\n",
       " 'poised',\n",
       " \"Won't\",\n",
       " 'covered',\n",
       " 'mouthpiece',\n",
       " 'warmth',\n",
       " 'poise',\n",
       " 'crime',\n",
       " 'mostly',\n",
       " \"Devil's\",\n",
       " 'Island',\n",
       " 'remoter',\n",
       " 'reaches',\n",
       " 'Siberia',\n",
       " 'promised',\n",
       " 'illustrate',\n",
       " 'breathed',\n",
       " 'completed',\n",
       " 'recognizing',\n",
       " 'caller',\n",
       " 'resumed',\n",
       " 'everyday',\n",
       " 'Soon',\n",
       " 'interrupted',\n",
       " \"Jennie's\",\n",
       " 'holding',\n",
       " 'pretending',\n",
       " \"Miranda's\",\n",
       " 'dumping',\n",
       " 'sugar',\n",
       " 'bowl',\n",
       " 'screeches',\n",
       " 'thuds',\n",
       " 'giggles',\n",
       " 'Under',\n",
       " 'reasonably',\n",
       " 'remind',\n",
       " 'Hank',\n",
       " 'shrewdly',\n",
       " 'vacated',\n",
       " 'gainer',\n",
       " 'accepted',\n",
       " 'peace',\n",
       " 'quiet',\n",
       " 'carrying',\n",
       " 'Resolving',\n",
       " 'formidable',\n",
       " 'demanding',\n",
       " 'staring',\n",
       " 'dismay',\n",
       " 'woolgather',\n",
       " 'month',\n",
       " 'indebted',\n",
       " 'shop',\n",
       " 'dentist',\n",
       " 'plumber',\n",
       " 'sitter',\n",
       " 'choice',\n",
       " 'yellow',\n",
       " 'amazingly',\n",
       " 'expert',\n",
       " 'narrow',\n",
       " 'ties',\n",
       " 'lapels',\n",
       " 'swatches',\n",
       " \"men's\",\n",
       " 'editor',\n",
       " 'tremendous',\n",
       " 'circulation',\n",
       " 'Nebraska',\n",
       " 'Wyoming',\n",
       " 'heiress',\n",
       " 'cattle',\n",
       " 'baron',\n",
       " 'millionaire',\n",
       " 'bank',\n",
       " 'roll',\n",
       " 'dabbler',\n",
       " 'patronized',\n",
       " 'Greenwich',\n",
       " 'artists',\n",
       " 'awhile',\n",
       " 'decided',\n",
       " 'lavish',\n",
       " 'duly',\n",
       " 'recorded',\n",
       " 'newspapers',\n",
       " 'investigating',\n",
       " 'regions',\n",
       " 'suburbia',\n",
       " 'surrounding',\n",
       " 'schools',\n",
       " 'abundance',\n",
       " 'bound',\n",
       " 'dreary',\n",
       " 'housewives',\n",
       " 'dull',\n",
       " 'People',\n",
       " 'Who',\n",
       " 'Things',\n",
       " 'admired',\n",
       " 'escape',\n",
       " 'uneasiness',\n",
       " 'centuries-old',\n",
       " 'restored',\n",
       " 'guided',\n",
       " 'eminent',\n",
       " 'architect',\n",
       " 'updated',\n",
       " \"gourmet's\",\n",
       " 'dust',\n",
       " 'anywhere',\n",
       " 'blocks',\n",
       " 'block',\n",
       " 'adjusted',\n",
       " 'parents',\n",
       " 'consequences',\n",
       " 'considered',\n",
       " 'violently',\n",
       " 'nonconformist',\n",
       " 'filling',\n",
       " 'furniture',\n",
       " 'paintings',\n",
       " 'objects',\n",
       " 'expensive',\n",
       " 'necessarily',\n",
       " 'valuable',\n",
       " 'flaunted',\n",
       " 'independence',\n",
       " 'rebelling',\n",
       " 'colors',\n",
       " 'bright',\n",
       " 'pinks',\n",
       " 'plaids',\n",
       " 'vivid',\n",
       " 'stripes',\n",
       " 'wore',\n",
       " 'solid',\n",
       " 'unrelieved',\n",
       " 'blonde',\n",
       " 'strongly',\n",
       " 'SS.',\n",
       " 'dislike',\n",
       " 'perfect',\n",
       " 'actors',\n",
       " 'handed',\n",
       " 'fat',\n",
       " 'talent',\n",
       " 'competently',\n",
       " 'understatement',\n",
       " 'Practically',\n",
       " 'enthusiasm',\n",
       " 'discussing',\n",
       " 'reverence',\n",
       " \"Fran's\",\n",
       " 'Baccarat',\n",
       " 'Steuben',\n",
       " 'Madame',\n",
       " 'Alexander',\n",
       " 'wine',\n",
       " 'pot',\n",
       " 'marinated',\n",
       " 'brandy',\n",
       " \"Koussevitzky's\",\n",
       " 'cousin',\n",
       " 'intimate',\n",
       " 'puzzling',\n",
       " 'inhabitants',\n",
       " 'unreal',\n",
       " 'Besides',\n",
       " 'drowned',\n",
       " 'melted',\n",
       " 'marshmallows',\n",
       " 'minimum',\n",
       " 'ruefulness',\n",
       " 'souffle',\n",
       " 'collapsed',\n",
       " 'Anyone',\n",
       " 'knows',\n",
       " 'red-blooded',\n",
       " 'react',\n",
       " 'catastrophe',\n",
       " 'honest',\n",
       " 'yelled',\n",
       " 'slammed',\n",
       " 'valueless',\n",
       " 'astringency',\n",
       " 'Gwen',\n",
       " 'Cafritz',\n",
       " \"Francesca's\",\n",
       " 'Perle',\n",
       " 'Mesta',\n",
       " 'habitual',\n",
       " 'committee',\n",
       " 'chairmen',\n",
       " 'managed',\n",
       " 'elected',\n",
       " 'co-chairmen',\n",
       " 'equal',\n",
       " 'bosses',\n",
       " 'civic',\n",
       " 'launched',\n",
       " 'inseparable',\n",
       " 'fond',\n",
       " 'keen',\n",
       " 'rivals',\n",
       " 'leadership',\n",
       " 'bitterly',\n",
       " 'unfunnily',\n",
       " 'sarcastic',\n",
       " 'learning',\n",
       " 'drive',\n",
       " 'slick',\n",
       " 'golden',\n",
       " 'toast',\n",
       " 'ultra-modern',\n",
       " 'decoration',\n",
       " 'appointments',\n",
       " 'complement',\n",
       " 'raw',\n",
       " 'silk',\n",
       " 'matched',\n",
       " 'housepaint',\n",
       " 'shapeless',\n",
       " 'frozen',\n",
       " 'stick',\n",
       " 'distinguished',\n",
       " 'indistinguishable',\n",
       " 'communications',\n",
       " 'finite',\n",
       " 'developed',\n",
       " 'hair-trigger',\n",
       " 'deference',\n",
       " 'country-squirehood',\n",
       " 'missed',\n",
       " 'sincere',\n",
       " 'too-hearty',\n",
       " 'handclasp',\n",
       " 'urgent',\n",
       " 'acknowledged',\n",
       " 'introduction',\n",
       " 'pressing',\n",
       " 'gazed',\n",
       " 'misty-eyed',\n",
       " 'unadulterated',\n",
       " 'total',\n",
       " 'credited',\n",
       " 'leaping',\n",
       " 'cigarettes',\n",
       " 'plates',\n",
       " 'glasses',\n",
       " 'bake',\n",
       " 'shops',\n",
       " 'Sanitary',\n",
       " 'Bake',\n",
       " 'Shops',\n",
       " 'Pioneers',\n",
       " 'wondered',\n",
       " 'homesteads',\n",
       " 'odd',\n",
       " 'establish',\n",
       " 'suburban',\n",
       " 'off-duty',\n",
       " 'gardeners',\n",
       " 'parent-teacher',\n",
       " 'conferences',\n",
       " 'Mister',\n",
       " '$85,000',\n",
       " 'yearly',\n",
       " 'ingratiating',\n",
       " 'gracious',\n",
       " 'estimation',\n",
       " 'Daphne',\n",
       " 'du',\n",
       " 'Maurier',\n",
       " 'Reverently',\n",
       " 'opinions',\n",
       " 'prove',\n",
       " 'Becoming',\n",
       " 'lunchtime',\n",
       " 'tasks',\n",
       " 'plans',\n",
       " 'beds',\n",
       " 'maybe',\n",
       " 'remembered',\n",
       " 'banana',\n",
       " 'Bananas',\n",
       " 'shouted',\n",
       " 'supposed',\n",
       " 'cereal',\n",
       " 'dug',\n",
       " \"devil's-food\",\n",
       " 'icing',\n",
       " 'rule',\n",
       " 'garlic',\n",
       " 'stunned',\n",
       " 'dearth',\n",
       " 'thrills',\n",
       " 'Mama',\n",
       " 'providing',\n",
       " 'closed',\n",
       " 'stretched',\n",
       " 'forth',\n",
       " 'arms',\n",
       " 'Take',\n",
       " 'paradise',\n",
       " 'furious',\n",
       " 'unparalleled',\n",
       " 'intrusion',\n",
       " 'enterprise',\n",
       " 'dared',\n",
       " 'demand',\n",
       " 'snoop',\n",
       " 'disbursements',\n",
       " 'confidential',\n",
       " 'agreements',\n",
       " 'historic',\n",
       " 'three-hour',\n",
       " 'coast-to-coast',\n",
       " 'broadcast',\n",
       " 'Father',\n",
       " 'Coughlin',\n",
       " 'pre-empting',\n",
       " 'Merry-go-round',\n",
       " 'Bowes',\n",
       " 'shows',\n",
       " 'White',\n",
       " 'despot',\n",
       " 'yore',\n",
       " 'diary',\n",
       " 'raiding',\n",
       " 'larder',\n",
       " 'ransacking',\n",
       " 'lingerie',\n",
       " 'impassioned',\n",
       " 'civil',\n",
       " 'created',\n",
       " 'landslide',\n",
       " 'correspondence',\n",
       " 'sponsor',\n",
       " 'replacing',\n",
       " 'permanent',\n",
       " 'basis',\n",
       " 'defenseless',\n",
       " 'dictator',\n",
       " 'bold',\n",
       " 'banks',\n",
       " 'barbarian',\n",
       " 'hordes',\n",
       " 'Russian',\n",
       " 'Communism',\n",
       " 'Athens',\n",
       " 'mighty',\n",
       " 'sacking',\n",
       " 'despoiling',\n",
       " 'Bolshevistic',\n",
       " 'Soak',\n",
       " 'unspeakable',\n",
       " 'siege',\n",
       " 'lasting',\n",
       " 'announced',\n",
       " 'debt',\n",
       " 'excess',\n",
       " 'aloof',\n",
       " 'iniquitous',\n",
       " 'practices',\n",
       " 'paying',\n",
       " 'taxes',\n",
       " 'salary',\n",
       " 'legally',\n",
       " 'inherited',\n",
       " \"Morris'\",\n",
       " 'relict',\n",
       " 'bill',\n",
       " 'astronomical',\n",
       " 'proportions',\n",
       " 'fraction',\n",
       " 'hard-come-by',\n",
       " 'savings',\n",
       " 'reprimanded',\n",
       " 'radical',\n",
       " 'leftist',\n",
       " 'Republic',\n",
       " 'Yorker',\n",
       " 'Time',\n",
       " 'Christian',\n",
       " 'Monitor',\n",
       " 'citizen',\n",
       " 'declared',\n",
       " 'income',\n",
       " 'unconstitutional',\n",
       " 'litigation',\n",
       " 'costly',\n",
       " 'seemingly',\n",
       " 'fought',\n",
       " 'tigress',\n",
       " 'appealed',\n",
       " '1937',\n",
       " 'Roosevelt',\n",
       " 'henchmen',\n",
       " 'dirty',\n",
       " 'pack',\n",
       " 'highest',\n",
       " 'tribunal',\n",
       " 'land',\n",
       " 'defeat',\n",
       " 'Presidential',\n",
       " 'coercion',\n",
       " 'poisoning',\n",
       " 'courtiers',\n",
       " 'toadies',\n",
       " 'sycophants',\n",
       " 'bench',\n",
       " 'far-reaching',\n",
       " 'discourage',\n",
       " 'lawyer',\n",
       " 'Portia',\n",
       " 'unanimously',\n",
       " 'voted',\n",
       " 'Again',\n",
       " 'persona',\n",
       " 'grata',\n",
       " 'staunch',\n",
       " 'thinkers',\n",
       " 'jurisprudence',\n",
       " 'Charles',\n",
       " 'Evans',\n",
       " 'Hughes',\n",
       " 'limitations',\n",
       " 'exceeded',\n",
       " 'logic',\n",
       " 'litigant',\n",
       " 'Albert',\n",
       " 'Einstein',\n",
       " 'workings',\n",
       " \"woman's\",\n",
       " 'amaze',\n",
       " 'Ford',\n",
       " 'utterly',\n",
       " 'astounding',\n",
       " 'Heywood',\n",
       " 'Broun',\n",
       " 'Belle',\n",
       " 'thinker',\n",
       " 'Caligula',\n",
       " 'concede',\n",
       " 'foresight',\n",
       " 'patriotism',\n",
       " 'resemble',\n",
       " 'ancient',\n",
       " 'Babylon',\n",
       " 'Nineveh',\n",
       " 'costs',\n",
       " 'prohibitive',\n",
       " 'crippling',\n",
       " 'fines',\n",
       " 'addition',\n",
       " 'usurious',\n",
       " 'unpaid',\n",
       " 'debts',\n",
       " 'claimed',\n",
       " 'blow',\n",
       " 'Nor',\n",
       " 'Manny',\n",
       " 'notoriety',\n",
       " 'enemies',\n",
       " 'level',\n",
       " 'charges',\n",
       " 'reactionary',\n",
       " 'robber',\n",
       " 'baroness',\n",
       " 'traitor',\n",
       " 'Traitor',\n",
       " 'point',\n",
       " 'ere',\n",
       " 'Committee',\n",
       " 'Un-American',\n",
       " 'Activities',\n",
       " 'Minute',\n",
       " 'Women',\n",
       " 'Economic',\n",
       " 'Council',\n",
       " 'notable',\n",
       " 'watchdog',\n",
       " 'organizations',\n",
       " \"Hollywood's\",\n",
       " 'bulwark',\n",
       " 'communism',\n",
       " 'single-handedly',\n",
       " 'creeping',\n",
       " 'socialism',\n",
       " 'insuperable',\n",
       " 'Fascio-Communist',\n",
       " 'troops',\n",
       " 'NRA',\n",
       " 'PWA',\n",
       " 'WPA',\n",
       " 'CCC',\n",
       " 'twenty-two',\n",
       " 'mercenaries',\n",
       " 'employed',\n",
       " 'secretly',\n",
       " 'transparent',\n",
       " 'ruse',\n",
       " 'regular',\n",
       " 'checks',\n",
       " 'suffered',\n",
       " 'drastically',\n",
       " 'Even',\n",
       " 'genius',\n",
       " 'throwing',\n",
       " 'worth',\n",
       " 'expected',\n",
       " 'livelihood',\n",
       " 'imperilled',\n",
       " 'sweeping',\n",
       " 'distractions',\n",
       " 'conducive',\n",
       " 'Oscar',\n",
       " 'winning',\n",
       " 'performances',\n",
       " 'somehow',\n",
       " 'pressures',\n",
       " 'unflagging',\n",
       " 'effort',\n",
       " 'devotion',\n",
       " 'achieved',\n",
       " 'world-renowned',\n",
       " 'casting',\n",
       " 'vote',\n",
       " 'study',\n",
       " 'mile',\n",
       " 'thespians',\n",
       " 'forty',\n",
       " 'fifty',\n",
       " 'co-star',\n",
       " 'helpmate',\n",
       " 'patient',\n",
       " 'helpful',\n",
       " 'apologetic',\n",
       " 'indulged',\n",
       " 'outbursts',\n",
       " 'temperament',\n",
       " 'profanity',\n",
       " 'blaming',\n",
       " 'sulks',\n",
       " 'occasions',\n",
       " 'storming',\n",
       " 'finances',\n",
       " 'privileged',\n",
       " 'salted',\n",
       " 'servants',\n",
       " 'bills',\n",
       " 'tailor',\n",
       " 'Athletic',\n",
       " 'Club',\n",
       " 'gift',\n",
       " 'third',\n",
       " 'anniversary',\n",
       " 'dislocated',\n",
       " 'jaw',\n",
       " 'monies',\n",
       " 'dissipated',\n",
       " 'gaming',\n",
       " 'carousing',\n",
       " 'More',\n",
       " 'confronted',\n",
       " 'gamblers',\n",
       " 'loan',\n",
       " 'sharks',\n",
       " 'gangsters',\n",
       " 'thugs',\n",
       " 'existed',\n",
       " 'repay',\n",
       " \"husband's\",\n",
       " 'staggering',\n",
       " 'losses',\n",
       " 'shuddered',\n",
       " 'sinister',\n",
       " 'strange',\n",
       " 'commonest',\n",
       " 'accents',\n",
       " 'telephoned',\n",
       " 'announce',\n",
       " 'sired',\n",
       " 'unborn',\n",
       " 'deepest',\n",
       " 'maternal',\n",
       " 'instincts',\n",
       " 'bled',\n",
       " 'darling',\n",
       " 'pink',\n",
       " 'bundles',\n",
       " 'heaven',\n",
       " 'proudly',\n",
       " 'Ah',\n",
       " 'ungallant',\n",
       " 'untrue',\n",
       " 'retort',\n",
       " 'abundantly',\n",
       " 'precious',\n",
       " 'wiser',\n",
       " 'summers',\n",
       " 'camp',\n",
       " 'Friends',\n",
       " 'irritable',\n",
       " 'neglected',\n",
       " 'anyhow',\n",
       " 'God',\n",
       " 'infinite',\n",
       " 'wisdom',\n",
       " 'wants',\n",
       " 'inexplicable',\n",
       " 'lapses',\n",
       " 'memory',\n",
       " 'works',\n",
       " 'Yet',\n",
       " 'adored',\n",
       " 'absences',\n",
       " 'coldness',\n",
       " 'indifference',\n",
       " 'slights',\n",
       " 'humiliated',\n",
       " 'parties',\n",
       " 'Trianon',\n",
       " 'Suite',\n",
       " ...]"
      ]
     },
     "execution_count": 29,
     "metadata": {},
     "output_type": "execute_result"
    }
   ],
   "source": [
    "fd_w_humor.hapaxes()"
   ]
  },
  {
   "cell_type": "code",
   "execution_count": 30,
   "metadata": {},
   "outputs": [
    {
     "data": {
      "text/plain": [
       "','"
      ]
     },
     "execution_count": 30,
     "metadata": {},
     "output_type": "execute_result"
    }
   ],
   "source": [
    "fd_w_humor.max()"
   ]
  },
  {
   "cell_type": "code",
   "execution_count": 32,
   "metadata": {},
   "outputs": [
    {
     "data": {
      "text/plain": [
       "0.04286702005070293"
      ]
     },
     "execution_count": 32,
     "metadata": {},
     "output_type": "execute_result"
    }
   ],
   "source": [
    "fd_w_humor.freq('the')\n",
    "#the frequency of a word = instances number of the word / length of text"
   ]
  },
  {
   "cell_type": "code",
   "execution_count": 33,
   "metadata": {},
   "outputs": [
    {
     "data": {
      "text/plain": [
       "930"
      ]
     },
     "execution_count": 33,
     "metadata": {},
     "output_type": "execute_result"
    }
   ],
   "source": [
    "fd_w_humor.get('the')\n",
    "#returns the instances number of the word "
   ]
  },
  {
   "cell_type": "code",
   "execution_count": 34,
   "metadata": {},
   "outputs": [],
   "source": [
    "l1 = [('cat1', 'good'), ('cat2', 'bad'), ('cat1', 'good')]"
   ]
  },
  {
   "cell_type": "code",
   "execution_count": 135,
   "metadata": {},
   "outputs": [],
   "source": [
    "cfd = ConditionalFreqDist(l1)"
   ]
  },
  {
   "cell_type": "code",
   "execution_count": 136,
   "metadata": {},
   "outputs": [
    {
     "data": {
      "text/plain": [
       "<ConditionalFreqDist with 2 conditions>"
      ]
     },
     "execution_count": 136,
     "metadata": {},
     "output_type": "execute_result"
    }
   ],
   "source": [
    "cfd"
   ]
  },
  {
   "cell_type": "code",
   "execution_count": 37,
   "metadata": {},
   "outputs": [
    {
     "data": {
      "text/plain": [
       "FreqDist({'good': 2})"
      ]
     },
     "execution_count": 37,
     "metadata": {},
     "output_type": "execute_result"
    }
   ],
   "source": [
    "cfd['cat1']"
   ]
  },
  {
   "cell_type": "code",
   "execution_count": 45,
   "metadata": {},
   "outputs": [
    {
     "name": "stdout",
     "output_type": "stream",
     "text": [
      "                  can could   may might  must  will \n",
      "           news    93    86    66    38    50   389 \n",
      "       religion    82    59    78    12    54    71 \n",
      "        hobbies   268    58   131    22    83   264 \n",
      "science_fiction    16    49     4    12     8    16 \n",
      "        romance    74   193    11    51    45    43 \n",
      "          humor    16    30     8     8     9    13 \n"
     ]
    }
   ],
   "source": [
    "cfd = ConditionalFreqDist(\n",
    "            (genre, word)\n",
    "            for genre in brown.categories()\n",
    "            for word in brown.words(categories=genre))\n",
    "genres = ['news','religion', 'hobbies','science_fiction','romance','humor']\n",
    "modals = ['can','could','may','might','must','will']\n",
    "cfd.tabulate(conditions = genres, samples=modals)\n",
    "#returns the tabulates frequency of sample words in each of the categories"
   ]
  },
  {
   "cell_type": "markdown",
   "metadata": {},
   "source": [
    "### Frequency Distribution ###"
   ]
  },
  {
   "cell_type": "code",
   "execution_count": 46,
   "metadata": {},
   "outputs": [],
   "source": [
    "### names and Last Letter\n",
    "\n",
    "#Our hypothesis:\n",
    "    H0 = More female names end in letter R than male names"
   ]
  },
  {
   "cell_type": "code",
   "execution_count": 47,
   "metadata": {},
   "outputs": [],
   "source": [
    "from nltk.corpus import names"
   ]
  },
  {
   "cell_type": "code",
   "execution_count": 48,
   "metadata": {},
   "outputs": [],
   "source": [
    "#exatract last letter of male names and female names\n",
    "l_names = ([('male',name[-1]) for name in names.words('male.txt')] +\n",
    "           [('female',name[-1]) for name in names.words('female.txt')])\n"
   ]
  },
  {
   "cell_type": "code",
   "execution_count": 49,
   "metadata": {},
   "outputs": [],
   "source": [
    "cfd_names = ConditionalFreqDist(l_names)"
   ]
  },
  {
   "cell_type": "code",
   "execution_count": 52,
   "metadata": {},
   "outputs": [
    {
     "data": {
      "text/plain": [
       "<ConditionalFreqDist with 2 conditions>"
      ]
     },
     "execution_count": 52,
     "metadata": {},
     "output_type": "execute_result"
    }
   ],
   "source": [
    "cfd_names"
   ]
  },
  {
   "cell_type": "code",
   "execution_count": 54,
   "metadata": {},
   "outputs": [
    {
     "data": {
      "image/png": "[encoded data removed]",
      "text/plain": [
       "<Figure size 432x288 with 1 Axes>"
      ]
     },
     "metadata": {
      "needs_background": "light"
     },
     "output_type": "display_data"
    },
    {
     "data": {
      "text/plain": [
       "<matplotlib.axes._subplots.AxesSubplot at 0x1c315c4fdf0>"
      ]
     },
     "execution_count": 54,
     "metadata": {},
     "output_type": "execute_result"
    }
   ],
   "source": [
    "cfd_names.plot()"
   ]
  },
  {
   "cell_type": "markdown",
   "metadata": {},
   "source": [
    "### Stemming ###"
   ]
  },
  {
   "cell_type": "code",
   "execution_count": 68,
   "metadata": {},
   "outputs": [],
   "source": [
    "### stemming ###"
   ]
  },
  {
   "cell_type": "code",
   "execution_count": 56,
   "metadata": {},
   "outputs": [],
   "source": [
    "from nltk.stem import PorterStemmer"
   ]
  },
  {
   "cell_type": "code",
   "execution_count": 57,
   "metadata": {},
   "outputs": [],
   "source": [
    "pstem = PorterStemmer()"
   ]
  },
  {
   "cell_type": "code",
   "execution_count": 58,
   "metadata": {},
   "outputs": [
    {
     "data": {
      "text/plain": [
       "'walk'"
      ]
     },
     "execution_count": 58,
     "metadata": {},
     "output_type": "execute_result"
    }
   ],
   "source": [
    "pstem.stem('walking')"
   ]
  },
  {
   "cell_type": "code",
   "execution_count": 62,
   "metadata": {},
   "outputs": [],
   "source": [
    "from nltk.stem import LancasterStemmer"
   ]
  },
  {
   "cell_type": "code",
   "execution_count": 64,
   "metadata": {},
   "outputs": [],
   "source": [
    "lst = LancasterStemmer()"
   ]
  },
  {
   "cell_type": "code",
   "execution_count": 65,
   "metadata": {},
   "outputs": [
    {
     "data": {
      "text/plain": [
       "'presum'"
      ]
     },
     "execution_count": 65,
     "metadata": {},
     "output_type": "execute_result"
    }
   ],
   "source": [
    "lst.stem('presumably')"
   ]
  },
  {
   "cell_type": "code",
   "execution_count": 69,
   "metadata": {},
   "outputs": [
    {
     "data": {
      "text/plain": [
       "'maxim'"
      ]
     },
     "execution_count": 69,
     "metadata": {},
     "output_type": "execute_result"
    }
   ],
   "source": [
    "lst.stem('maximum')"
   ]
  },
  {
   "cell_type": "code",
   "execution_count": 70,
   "metadata": {},
   "outputs": [],
   "source": [
    "from nltk.stem import RegexpStemmer"
   ]
  },
  {
   "cell_type": "code",
   "execution_count": 72,
   "metadata": {},
   "outputs": [],
   "source": [
    "rst = RegexpStemmer(r'ing$|s$|e$|able$')"
   ]
  },
  {
   "cell_type": "code",
   "execution_count": 75,
   "metadata": {},
   "outputs": [
    {
     "data": {
      "text/plain": [
       "'controll'"
      ]
     },
     "execution_count": 75,
     "metadata": {},
     "output_type": "execute_result"
    }
   ],
   "source": [
    "rst.stem('controllable')"
   ]
  },
  {
   "cell_type": "markdown",
   "metadata": {},
   "source": [
    "### Lemmatizers ###"
   ]
  },
  {
   "cell_type": "code",
   "execution_count": 76,
   "metadata": {},
   "outputs": [],
   "source": [
    "### Lemmatizers ###\n",
    "#using WordNet "
   ]
  },
  {
   "cell_type": "code",
   "execution_count": 77,
   "metadata": {},
   "outputs": [],
   "source": [
    "from nltk.corpus import wordnet as wn"
   ]
  },
  {
   "cell_type": "code",
   "execution_count": 78,
   "metadata": {},
   "outputs": [
    {
     "data": {
      "text/plain": [
       "[Synset('spoke.n.01'),\n",
       " Synset('rundle.n.01'),\n",
       " Synset('talk.v.02'),\n",
       " Synset('talk.v.01'),\n",
       " Synset('speak.v.03'),\n",
       " Synset('address.v.02'),\n",
       " Synset('speak.v.05')]"
      ]
     },
     "execution_count": 78,
     "metadata": {},
     "output_type": "execute_result"
    }
   ],
   "source": [
    "wn.synsets('spoke')"
   ]
  },
  {
   "cell_type": "code",
   "execution_count": 88,
   "metadata": {},
   "outputs": [
    {
     "data": {
      "text/plain": [
       "'exchange thoughts; talk with'"
      ]
     },
     "execution_count": 88,
     "metadata": {},
     "output_type": "execute_result"
    }
   ],
   "source": [
    "wn.synset('talk.v.01').definition()\n"
   ]
  },
  {
   "cell_type": "code",
   "execution_count": 89,
   "metadata": {},
   "outputs": [
    {
     "data": {
      "text/plain": [
       "['We often talk business', 'Actions talk louder than words']"
      ]
     },
     "execution_count": 89,
     "metadata": {},
     "output_type": "execute_result"
    }
   ],
   "source": [
    "wn.synset('talk.v.01').examples()"
   ]
  },
  {
   "cell_type": "code",
   "execution_count": 90,
   "metadata": {},
   "outputs": [
    {
     "name": "stdout",
     "output_type": "stream",
     "text": [
      "Synset('spoke.n.01') : ['spoke', 'wheel_spoke', 'radius']\n",
      "Synset('rundle.n.01') : ['rundle', 'spoke', 'rung']\n",
      "Synset('talk.v.02') : ['talk', 'speak', 'utter', 'mouth', 'verbalize', 'verbalise']\n",
      "Synset('talk.v.01') : ['talk', 'speak']\n",
      "Synset('speak.v.03') : ['speak', 'talk']\n",
      "Synset('address.v.02') : ['address', 'speak']\n",
      "Synset('speak.v.05') : ['speak']\n"
     ]
    }
   ],
   "source": [
    "for syn in wn.synsets('spoke'):\n",
    "    print(syn, ':', syn.lemma_names())"
   ]
  },
  {
   "cell_type": "code",
   "execution_count": 91,
   "metadata": {},
   "outputs": [
    {
     "data": {
      "text/plain": [
       "[Synset('talk.v.02'),\n",
       " Synset('talk.v.01'),\n",
       " Synset('speak.v.03'),\n",
       " Synset('address.v.02'),\n",
       " Synset('speak.v.05'),\n",
       " Synset('spoken.a.01')]"
      ]
     },
     "execution_count": 91,
     "metadata": {},
     "output_type": "execute_result"
    }
   ],
   "source": [
    "wn.synsets('spoken')"
   ]
  },
  {
   "cell_type": "code",
   "execution_count": 92,
   "metadata": {},
   "outputs": [
    {
     "name": "stdout",
     "output_type": "stream",
     "text": [
      "Synset('talk.v.02') : ['talk', 'speak', 'utter', 'mouth', 'verbalize', 'verbalise']\n",
      "Synset('talk.v.01') : ['talk', 'speak']\n",
      "Synset('speak.v.03') : ['speak', 'talk']\n",
      "Synset('address.v.02') : ['address', 'speak']\n",
      "Synset('speak.v.05') : ['speak']\n",
      "Synset('spoken.a.01') : ['spoken']\n"
     ]
    }
   ],
   "source": [
    "for syn in wn.synsets('spoken'):\n",
    "    print(syn, ':', syn.lemma_names())"
   ]
  },
  {
   "cell_type": "code",
   "execution_count": 93,
   "metadata": {},
   "outputs": [],
   "source": [
    "from nltk.stem import WordNetLemmatizer"
   ]
  },
  {
   "cell_type": "code",
   "execution_count": 96,
   "metadata": {},
   "outputs": [],
   "source": [
    "wln = WordNetLemmatizer()"
   ]
  },
  {
   "cell_type": "code",
   "execution_count": 97,
   "metadata": {},
   "outputs": [
    {
     "data": {
      "text/plain": [
       "'spoken'"
      ]
     },
     "execution_count": 97,
     "metadata": {},
     "output_type": "execute_result"
    }
   ],
   "source": [
    "wln.lemmatize('spoken')"
   ]
  },
  {
   "cell_type": "code",
   "execution_count": 98,
   "metadata": {},
   "outputs": [
    {
     "data": {
      "text/plain": [
       "'speak'"
      ]
     },
     "execution_count": 98,
     "metadata": {},
     "output_type": "execute_result"
    }
   ],
   "source": [
    "wln.lemmatize('spoken','v')"
   ]
  },
  {
   "cell_type": "code",
   "execution_count": 100,
   "metadata": {},
   "outputs": [
    {
     "data": {
      "text/plain": [
       "'bad'"
      ]
     },
     "execution_count": 100,
     "metadata": {},
     "output_type": "execute_result"
    }
   ],
   "source": [
    "wln.lemmatize('worst','a')"
   ]
  },
  {
   "cell_type": "markdown",
   "metadata": {},
   "source": [
    "### Tokenization ###"
   ]
  },
  {
   "cell_type": "code",
   "execution_count": 101,
   "metadata": {},
   "outputs": [],
   "source": [
    "### tokenization ###"
   ]
  },
  {
   "cell_type": "code",
   "execution_count": 113,
   "metadata": {},
   "outputs": [],
   "source": [
    "from nltk.tokenize import word_tokenize, sent_tokenize"
   ]
  },
  {
   "cell_type": "code",
   "execution_count": 105,
   "metadata": {},
   "outputs": [
    {
     "data": {
      "text/plain": [
       "['austen-emma.txt',\n",
       " 'austen-persuasion.txt',\n",
       " 'austen-sense.txt',\n",
       " 'bible-kjv.txt',\n",
       " 'blake-poems.txt',\n",
       " 'bryant-stories.txt',\n",
       " 'burgess-busterbrown.txt',\n",
       " 'carroll-alice.txt',\n",
       " 'chesterton-ball.txt',\n",
       " 'chesterton-brown.txt',\n",
       " 'chesterton-thursday.txt',\n",
       " 'edgeworth-parents.txt',\n",
       " 'melville-moby_dick.txt',\n",
       " 'milton-paradise.txt',\n",
       " 'shakespeare-caesar.txt',\n",
       " 'shakespeare-hamlet.txt',\n",
       " 'shakespeare-macbeth.txt',\n",
       " 'whitman-leaves.txt']"
      ]
     },
     "execution_count": 105,
     "metadata": {},
     "output_type": "execute_result"
    }
   ],
   "source": [
    "gutenberg.fileids()"
   ]
  },
  {
   "cell_type": "code",
   "execution_count": 110,
   "metadata": {},
   "outputs": [],
   "source": [
    "r = gutenberg.raw(['austen-emma.txt'])"
   ]
  },
  {
   "cell_type": "code",
   "execution_count": 111,
   "metadata": {},
   "outputs": [
    {
     "data": {
      "text/plain": [
       "\"Emma Woodhouse, handsome, clever, and rich, with a comfortable home\\nand happy disposition, seemed to unite some of the best blessings\\nof existence; and had lived nearly twenty-one years in the world\\nwith very little to distress or vex her.\\n\\nShe was the youngest of the two daughters of a most affectionate,\\nindulgent father; and had, in consequence of her sister's marriage,\\nbeen mistress of his house from a very early period.\""
      ]
     },
     "execution_count": 111,
     "metadata": {},
     "output_type": "execute_result"
    }
   ],
   "source": [
    "emma = r[50:477]\n",
    "emma"
   ]
  },
  {
   "cell_type": "code",
   "execution_count": 118,
   "metadata": {},
   "outputs": [],
   "source": [
    "s = sent_tokenize(emma)"
   ]
  },
  {
   "cell_type": "code",
   "execution_count": 119,
   "metadata": {},
   "outputs": [
    {
     "data": {
      "text/plain": [
       "2"
      ]
     },
     "execution_count": 119,
     "metadata": {},
     "output_type": "execute_result"
    }
   ],
   "source": [
    "len(s)"
   ]
  },
  {
   "cell_type": "code",
   "execution_count": 120,
   "metadata": {},
   "outputs": [
    {
     "data": {
      "text/plain": [
       "'Emma Woodhouse, handsome, clever, and rich, with a comfortable home\\nand happy disposition, seemed to unite some of the best blessings\\nof existence; and had lived nearly twenty-one years in the world\\nwith very little to distress or vex her.'"
      ]
     },
     "execution_count": 120,
     "metadata": {},
     "output_type": "execute_result"
    }
   ],
   "source": [
    "s[0]"
   ]
  },
  {
   "cell_type": "code",
   "execution_count": 121,
   "metadata": {},
   "outputs": [
    {
     "data": {
      "text/plain": [
       "\"She was the youngest of the two daughters of a most affectionate,\\nindulgent father; and had, in consequence of her sister's marriage,\\nbeen mistress of his house from a very early period.\""
      ]
     },
     "execution_count": 121,
     "metadata": {},
     "output_type": "execute_result"
    }
   ],
   "source": [
    "s[1]"
   ]
  },
  {
   "cell_type": "code",
   "execution_count": 122,
   "metadata": {},
   "outputs": [],
   "source": [
    "s1 = emma.split('.')"
   ]
  },
  {
   "cell_type": "code",
   "execution_count": 123,
   "metadata": {},
   "outputs": [
    {
     "data": {
      "text/plain": [
       "'Emma Woodhouse, handsome, clever, and rich, with a comfortable home\\nand happy disposition, seemed to unite some of the best blessings\\nof existence; and had lived nearly twenty-one years in the world\\nwith very little to distress or vex her'"
      ]
     },
     "execution_count": 123,
     "metadata": {},
     "output_type": "execute_result"
    }
   ],
   "source": [
    "s1[0]"
   ]
  },
  {
   "cell_type": "code",
   "execution_count": 125,
   "metadata": {},
   "outputs": [
    {
     "data": {
      "text/plain": [
       "\"Sixteen years had Miss Taylor been in Mr. Woodhouse's family,\\nless as a governess than a friend, very fond of both daughters,\\nbut particularly of Emma.  Between _them_ it was more the intimacy\\nof sisters.\""
      ]
     },
     "execution_count": 125,
     "metadata": {},
     "output_type": "execute_result"
    }
   ],
   "source": [
    "s2 = r[704:908]\n",
    "s2"
   ]
  },
  {
   "cell_type": "code",
   "execution_count": 126,
   "metadata": {},
   "outputs": [],
   "source": [
    "s3 = s2.split('.')"
   ]
  },
  {
   "cell_type": "code",
   "execution_count": 127,
   "metadata": {},
   "outputs": [
    {
     "data": {
      "text/plain": [
       "'Sixteen years had Miss Taylor been in Mr'"
      ]
     },
     "execution_count": 127,
     "metadata": {},
     "output_type": "execute_result"
    }
   ],
   "source": [
    "s3[0]"
   ]
  },
  {
   "cell_type": "code",
   "execution_count": 128,
   "metadata": {},
   "outputs": [
    {
     "data": {
      "text/plain": [
       "\" Woodhouse's family,\\nless as a governess than a friend, very fond of both daughters,\\nbut particularly of Emma\""
      ]
     },
     "execution_count": 128,
     "metadata": {},
     "output_type": "execute_result"
    }
   ],
   "source": [
    "s3[1]"
   ]
  },
  {
   "cell_type": "code",
   "execution_count": 130,
   "metadata": {},
   "outputs": [],
   "source": [
    "s4 = sent_tokenize(s2)"
   ]
  },
  {
   "cell_type": "code",
   "execution_count": 131,
   "metadata": {},
   "outputs": [
    {
     "data": {
      "text/plain": [
       "\"Sixteen years had Miss Taylor been in Mr. Woodhouse's family,\\nless as a governess than a friend, very fond of both daughters,\\nbut particularly of Emma.\""
      ]
     },
     "execution_count": 131,
     "metadata": {},
     "output_type": "execute_result"
    }
   ],
   "source": [
    "s4[0]"
   ]
  },
  {
   "cell_type": "code",
   "execution_count": 132,
   "metadata": {},
   "outputs": [
    {
     "data": {
      "text/plain": [
       "'Between _them_ it was more the intimacy\\nof sisters.'"
      ]
     },
     "execution_count": 132,
     "metadata": {},
     "output_type": "execute_result"
    }
   ],
   "source": [
    "s4[1]"
   ]
  },
  {
   "cell_type": "code",
   "execution_count": 133,
   "metadata": {},
   "outputs": [
    {
     "data": {
      "text/plain": [
       "['Sixteen',\n",
       " 'years',\n",
       " 'had',\n",
       " 'Miss',\n",
       " 'Taylor',\n",
       " 'been',\n",
       " 'in',\n",
       " 'Mr.',\n",
       " 'Woodhouse',\n",
       " \"'s\",\n",
       " 'family',\n",
       " ',',\n",
       " 'less',\n",
       " 'as',\n",
       " 'a',\n",
       " 'governess',\n",
       " 'than',\n",
       " 'a',\n",
       " 'friend',\n",
       " ',',\n",
       " 'very',\n",
       " 'fond',\n",
       " 'of',\n",
       " 'both',\n",
       " 'daughters',\n",
       " ',',\n",
       " 'but',\n",
       " 'particularly',\n",
       " 'of',\n",
       " 'Emma',\n",
       " '.']"
      ]
     },
     "execution_count": 133,
     "metadata": {},
     "output_type": "execute_result"
    }
   ],
   "source": [
    "w1 = word_tokenize(s4[0])\n",
    "w1"
   ]
  }
 ],
 "metadata": {
  "kernelspec": {
   "display_name": "Python 3",
   "language": "python",
   "name": "python3"
  },
  "language_info": {
   "codemirror_mode": {
    "name": "ipython",
    "version": 3
   },
   "file_extension": ".py",
   "mimetype": "text/x-python",
   "name": "python",
   "nbconvert_exporter": "python",
   "pygments_lexer": "ipython3",
   "version": "3.8.3"
  }
 },
 "nbformat": 4,
 "nbformat_minor": 4
}
